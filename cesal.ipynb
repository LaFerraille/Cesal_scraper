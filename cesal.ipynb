{
 "cells": [
  {
   "cell_type": "code",
   "execution_count": 1,
   "metadata": {},
   "outputs": [],
   "source": [
    "import time\n",
    "import smtplib\n",
    "from selenium import webdriver\n",
    "from selenium.webdriver.common.by import By\n",
    "from selenium.webdriver.common.keys import Keys\n",
    "from selenium.webdriver.chrome.options import Options\n",
    "import pandas as pd\n",
    "from datetime import datetime"
   ]
  },
  {
   "cell_type": "code",
   "execution_count": 2,
   "metadata": {},
   "outputs": [],
   "source": [
    "options = Options()\n",
    "#options.add_argument(\"--window-size=1920,1200\")\n",
    "options.add_argument(\"--incognito\")\n",
    "#options.add_argument(\"--headless\")"
   ]
  },
  {
   "cell_type": "code",
   "execution_count": 3,
   "metadata": {},
   "outputs": [],
   "source": [
    "url = \"https://logement.cesal-residentiel.fr/espace-resident/cesal_mon_logement_reservation.php\""
   ]
  },
  {
   "cell_type": "code",
   "execution_count": 39,
   "metadata": {},
   "outputs": [],
   "source": [
    "driver = webdriver.Chrome(options=options)\n",
    "driver.get(url)"
   ]
  },
  {
   "cell_type": "code",
   "execution_count": 40,
   "metadata": {},
   "outputs": [],
   "source": [
    "driver.find_element(By.CSS_SELECTOR, \"button[class='btn btn-success btn-lg push-20']\").click()"
   ]
  },
  {
   "cell_type": "code",
   "execution_count": 41,
   "metadata": {},
   "outputs": [],
   "source": [
    "email = \"raphael.romandferroni@student-cs.fr\"\n",
    "mdp = \"Wapiti24!+\"\n",
    "\n",
    "driver.find_element(By.ID, \"login-email\").send_keys(email)\n",
    "driver.find_element(By.ID, \"login-password\").send_keys(mdp)"
   ]
  },
  {
   "cell_type": "code",
   "execution_count": 42,
   "metadata": {},
   "outputs": [],
   "source": [
    "driver.find_element(By.XPATH, '//*[@id=\"connexion\"]/form/div[4]/div/button').click()\n",
    "time.sleep(2)"
   ]
  },
  {
   "cell_type": "code",
   "execution_count": 43,
   "metadata": {},
   "outputs": [],
   "source": [
    "driver.find_element(By.CSS_SELECTOR, \"button[class='btn btn-primary']\").click()\n",
    "time.sleep(2)"
   ]
  },
  {
   "cell_type": "code",
   "execution_count": 44,
   "metadata": {},
   "outputs": [],
   "source": [
    "date = \"25/06/2024\"\n",
    "\n",
    "driver.find_element(By.CSS_SELECTOR, \"input[class='form-control']\").send_keys(date)"
   ]
  },
  {
   "cell_type": "code",
   "execution_count": 46,
   "metadata": {},
   "outputs": [],
   "source": [
    "driver.find_element(By.TAG_NAME, \"body\").click()"
   ]
  },
  {
   "cell_type": "code",
   "execution_count": 47,
   "metadata": {},
   "outputs": [],
   "source": [
    "driver.find_element(By.XPATH, '//*[@id=\"selection_creneau\"]/div[1]/div[2]/span/span[1]/span/span[2]' ).click()\n",
    "dates = driver.find_elements(By.CSS_SELECTOR, \"li[class^='select2-results__option']\")"
   ]
  },
  {
   "cell_type": "code",
   "execution_count": 48,
   "metadata": {},
   "outputs": [],
   "source": [
    "driver.find_element(By.XPATH, '//*[@id=\"selection_creneau\"]/div[1]/div[2]/span/span[1]/span/span[2]').click()"
   ]
  },
  {
   "cell_type": "code",
   "execution_count": 49,
   "metadata": {},
   "outputs": [],
   "source": [
    "cols = list(['date','residence_1','residence_2','residence_3','residence_4','residence_5','residence_6'])\n",
    "df = pd.DataFrame(columns=cols)"
   ]
  },
  {
   "cell_type": "code",
   "execution_count": 50,
   "metadata": {},
   "outputs": [],
   "source": [
    "for i in range(2,len(dates)+1) :\n",
    "    driver.find_element(By.XPATH, '//*[@id=\"selection_creneau\"]/div[1]/div[2]/span/span[1]/span/span[2]' ).click()\n",
    "    d = driver.find_element(By.CSS_SELECTOR, \"ul[class='select2-results__options'] > li:nth-of-type(\" + str(i) + \")\")\n",
    "    date = d.get_attribute('textContent')\n",
    "    d.click()\n",
    "    driver.find_element(By.CSS_SELECTOR, \"button[class='btn btn-success']\").click()\n",
    "    l = []\n",
    "\n",
    "    for res,label in zip(driver.find_elements(By.CSS_SELECTOR, \"div[id^='residence_'] > h3\"),driver.find_elements(By.CSS_SELECTOR, \"div[id^='residence_'] > h6\")) :\n",
    "        lab = '0' if label.get_attribute('textContent') == 'Aucun logement disponible' else '1'\n",
    "        l.append(lab)\n",
    "\n",
    "    results = {'date':date,'residence_1':l[0],'residence_2':l[1],'residence_3':l[2],'residence_4':l[3],'residence_5':l[4],'residence_6':l[5]}\n",
    "    new_df = pd.DataFrame(results, index=[0])\n",
    "    df = pd.concat([df, new_df], ignore_index=True)\n",
    "    time.sleep(2)\n",
    "\n",
    "df.to_csv('results.csv',index=False)\n",
    "    "
   ]
  },
  {
   "cell_type": "code",
   "execution_count": 51,
   "metadata": {},
   "outputs": [
    {
     "name": "stdout",
     "output_type": "stream",
     "text": [
      "Email sent successfully at 2024-02-10 21:00:40.285950\n",
      "No room mate\n",
      "Email sent successfully at 2024-02-10 21:00:41.527965\n",
      "Email sent successfully at 2024-02-10 21:00:42.746245\n",
      "No room mate\n",
      "Email sent successfully at 2024-02-10 21:00:43.874155\n",
      "On est le 2024-02-10 21:00:43.886695\n"
     ]
    }
   ],
   "source": [
    "results = pd.read_csv('results.csv')\n",
    "\n",
    "for col in results.columns[1:] :\n",
    "    if 1 in list(results[col]) :\n",
    "        indice = list(results[col]).index(1)\n",
    "        \n",
    "        sender_email = 'raphaelromandferroni@gmail.com'\n",
    "        sender_password = 'ytossmklcjwgjkyc'\n",
    "        recipient_email = 'b00786419@essec.edu'\n",
    "\n",
    "        message = f\"Il y a une chambre disponible en {col} a partir du {results['date'][indice]}. Allez depeche toi ma poule !\"\n",
    "        \n",
    "        try:\n",
    "            with smtplib.SMTP('smtp.gmail.com', 587) as server:\n",
    "                server.starttls()\n",
    "                server.login(sender_email, sender_password)\n",
    "                server.sendmail(sender_email, recipient_email, message)\n",
    "                print(\"Email sent successfully at {}\".format(datetime.now()))\n",
    "        except Exception as e:\n",
    "            print(f\"Email could not be sent: {str(e)}\")\n",
    "    else : \n",
    "        print('No room mate')\n",
    "\n",
    "print(\"On est le {}\".format(datetime.now()))"
   ]
  },
  {
   "cell_type": "code",
   "execution_count": 38,
   "metadata": {},
   "outputs": [],
   "source": [
    "driver.quit()"
   ]
  }
 ],
 "metadata": {
  "kernelspec": {
   "display_name": "Python 3",
   "language": "python",
   "name": "python3"
  },
  "language_info": {
   "codemirror_mode": {
    "name": "ipython",
    "version": 3
   },
   "file_extension": ".py",
   "mimetype": "text/x-python",
   "name": "python",
   "nbconvert_exporter": "python",
   "pygments_lexer": "ipython3",
   "version": "3.11.5"
  },
  "orig_nbformat": 4
 },
 "nbformat": 4,
 "nbformat_minor": 2
}
